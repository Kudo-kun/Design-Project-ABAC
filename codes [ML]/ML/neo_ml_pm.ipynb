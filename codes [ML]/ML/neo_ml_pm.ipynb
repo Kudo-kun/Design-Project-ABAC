{
 "cells": [
  {
   "cell_type": "code",
   "execution_count": null,
   "id": "graduate-establishment",
   "metadata": {},
   "outputs": [],
   "source": [
    "from numpy import array\n",
    "from ml_models import Classifier\n",
    "from matplotlib import pyplot as plt\n",
    "from sklearn.model_selection import KFold\n",
    "from sklearn.metrics import accuracy_score, precision_score, recall_score\n",
    "plt.style.use(\"ggplot\")"
   ]
  },
  {
   "cell_type": "code",
   "execution_count": null,
   "id": "banned-median",
   "metadata": {},
   "outputs": [],
   "source": [
    "def data_preprocessor(fname):\n",
    "    uvs, ovs, Np = 16, 20, 1\n",
    "    with open(fname, 'r') as f:\n",
    "        rules = f.read().split('\\n')\n",
    "        f.close()\n",
    "\n",
    "    X,  Y = [], []\n",
    "    for rule in rules:\n",
    "        (UA, OA, P) = rule.split(';')\n",
    "        temp_u, temp_o = [0]*uvs, [0]*ovs\n",
    "        for i in UA.split(','):\n",
    "            temp_u[int(i)] = 1\n",
    "        for i in OA.split(','):\n",
    "            temp_o[int(i)] = 1\n",
    "        X.append(temp_u + temp_o)\n",
    "        Y.append(int(P))\n",
    "    return (array(X), array(Y))"
   ]
  },
  {
   "cell_type": "code",
   "execution_count": null,
   "id": "reasonable-lighter",
   "metadata": {},
   "outputs": [],
   "source": [
    "def box_plot(scores, title, folds, labels):\n",
    "    plt.boxplot(scores, labels=labels)\n",
    "    plt.title(f\"{folds}-fold cross validation boxplot for {title}\")\n",
    "    plt.ylabel(title)\n",
    "    plt.show()"
   ]
  },
  {
   "cell_type": "code",
   "execution_count": null,
   "id": "upper-brunei",
   "metadata": {},
   "outputs": [],
   "source": [
    "models = [\"SVM\", \"DT\", \"RF\", \"xgboost\", \"gradboost\", \"adaboost\"]\n",
    "X, Y = data_preprocessor(\"final_data.txt\")\n",
    "dataset_size = X.shape[0]\n",
    "accuracies, precisions, recalls = [], [], []"
   ]
  },
  {
   "cell_type": "code",
   "execution_count": null,
   "id": "native-inspection",
   "metadata": {},
   "outputs": [],
   "source": [
    "for model in models:\n",
    "    print(f\"[INFO] Training model: {model}\")\n",
    "    kfold_gen = KFold(n_splits=7, shuffle=True).split(X, Y)\n",
    "    classifier = Classifier(ctype=model)\n",
    "    current_model_acc = []\n",
    "    current_model_pre = []\n",
    "    current_model_rec = []\n",
    "    avg_acc, avg_pre, avg_rec, fold = 0, 0, 0, 0\n",
    "    \n",
    "    for (fold, (train, test)) in enumerate(kfold_gen, 1):\n",
    "        classifier.fit(X[train], Y[train])\n",
    "        ypred = classifier.predict(X[test])\n",
    "        acc = accuracy_score(Y[test], ypred)\n",
    "        pre = precision_score(Y[test], ypred)\n",
    "        rec = recall_score(Y[test], ypred)\n",
    "        print(\"[INFO] Training on fold-%d | accuracy: %.3f | precision: %.3f | recall %.3f |\" % (fold, acc, pre, rec))\n",
    "        \n",
    "        current_model_acc.append(acc)\n",
    "        current_model_pre.append(pre)\n",
    "        current_model_rec.append(rec)\n",
    "        avg_acc += acc\n",
    "        avg_rec += rec\n",
    "        avg_pre += pre\n",
    "    \n",
    "    avg_acc /= fold\n",
    "    avg_rec /= fold\n",
    "    avg_pre /= fold\n",
    "    print(\"[INFO] Average accuracy, precision, recall over all %d-fold: %.3f, %.3f, %.3f\" % (fold, avg_acc, avg_pre, avg_rec))\n",
    "    accuracies.append(current_model_acc)\n",
    "    precisions.append(current_model_pre)\n",
    "    recalls.append(current_model_rec)"
   ]
  },
  {
   "cell_type": "code",
   "execution_count": null,
   "id": "amended-label",
   "metadata": {},
   "outputs": [],
   "source": [
    "box_plot(scores=accuracies, title=\"accuracy\", folds=fold, labels=models)\n",
    "box_plot(scores=precisions, title=\"precisions\", folds=fold, labels=models)\n",
    "box_plot(scores=recalls, title=\"recall\", folds=fold, labels=models)"
   ]
  }
 ],
 "metadata": {
  "kernelspec": {
   "display_name": "Python 3",
   "language": "python",
   "name": "python3"
  },
  "language_info": {
   "codemirror_mode": {
    "name": "ipython",
    "version": 3
   },
   "file_extension": ".py",
   "mimetype": "text/x-python",
   "name": "python",
   "nbconvert_exporter": "python",
   "pygments_lexer": "ipython3",
   "version": "3.9.2"
  }
 },
 "nbformat": 4,
 "nbformat_minor": 5
}
