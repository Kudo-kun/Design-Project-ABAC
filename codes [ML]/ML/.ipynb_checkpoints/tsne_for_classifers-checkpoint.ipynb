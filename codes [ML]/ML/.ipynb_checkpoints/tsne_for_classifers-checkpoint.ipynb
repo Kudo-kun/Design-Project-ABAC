{
 "cells": [
  {
   "cell_type": "code",
   "execution_count": 1,
   "id": "bf430362",
   "metadata": {},
   "outputs": [],
   "source": [
    "import numpy as np\n",
    "import matplotlib.pyplot as plt\n",
    "from ml_models import models_dict\n",
    "from sklearn.manifold import TSNE"
   ]
  },
  {
   "cell_type": "code",
   "execution_count": 2,
   "id": "82bc852e",
   "metadata": {},
   "outputs": [],
   "source": [
    "def data_preprocessor(fname):\n",
    "    with open(fname, 'r') as f:\n",
    "        rules = f.read().split('\\n')\n",
    "\n",
    "    X,  Y = [], []\n",
    "    for rule in rules:\n",
    "        (UA, OA, P) = rule.split(';')\n",
    "        UA = list(map(int, UA.split(',')))\n",
    "        OA = list(map(int, OA.split(',')))\n",
    "        X.append(UA + OA)\n",
    "        Y.append(int(P))\n",
    "    return (np.array(X), np.array(Y))"
   ]
  },
  {
   "cell_type": "code",
   "execution_count": 3,
   "id": "84ea6488",
   "metadata": {},
   "outputs": [],
   "source": [
    "def tsne_plot(x_reduced, x_predicted, clf):\n",
    "    x_min, x_max = x_reduced[:, 0].min() - 5, x_reduced[:, 0].max() + 5\n",
    "    y_min, y_max = x_reduced[:, 1].min() - 5, x_reduced[:, 1].max() + 5\n",
    "\n",
    "    x_ = np.linspace(x_min, x_max, 500)\n",
    "    y_ = np.linspace(y_min, y_max, 500)\n",
    "\n",
    "    xx, yy = np.meshgrid(x_, y_)\n",
    "\n",
    "    # evaluate the decision function on the meshgrid\n",
    "    try:\n",
    "        z = clf.decision_function(np.c_[xx.ravel(), yy.ravel()])\n",
    "        z = z.reshape(xx.shape)\n",
    "    except AttributeError:\n",
    "        return\n",
    "\n",
    "    # plot the decision function and the reduced data\n",
    "    plt.contourf(xx, yy, z)\n",
    "    a = plt.contour(xx, yy, z, levels=[0], linewidths=1.5, colors='magenta')\n",
    "    b = plt.scatter(x_reduced[x_predicted==1, 0], x_reduced[x_predicted==1, 1], c='green', marker='+')\n",
    "    c = plt.scatter(x_reduced[x_predicted==0, 0], x_reduced[x_predicted==0, 1], c='red', marker='+')\n",
    "    plt.legend([a.collections[0], b, c], ['decision boundary', '+ve', '-ve'], bbox_to_anchor=(1.05, 1))\n",
    "    plt.axis('tight')\n",
    "    plt.show()"
   ]
  },
  {
   "cell_type": "code",
   "execution_count": 4,
   "id": "2fe2fcfc",
   "metadata": {},
   "outputs": [],
   "source": [
    "Xtrain, Ytrain = data_preprocessor(\"abac-cat-v1.txt\")\n",
    "Xtest, Ytest = data_preprocessor(\"test-v1.txt\")"
   ]
  },
  {
   "cell_type": "code",
   "execution_count": 5,
   "id": "f18e377a",
   "metadata": {},
   "outputs": [],
   "source": [
    "# reduce the dimensions of the train and test data using TSNE\n",
    "size_train = Xtrain.shape[0]\n",
    "X = np.concatenate((Xtrain, Xtest), axis=0)\n",
    "X_tsne = TSNE(n_components=2, n_jobs=-1).fit_transform(X) \n",
    "Xtrain = X_tsne[:size_train]\n",
    "Xtest = X_tsne[size_train:]"
   ]
  },
  {
   "cell_type": "code",
   "execution_count": null,
   "id": "d669f151",
   "metadata": {},
   "outputs": [
    {
     "name": "stdout",
     "output_type": "stream",
     "text": [
      "[INFO] Training model: SupportVectorMachine\n"
     ]
    }
   ],
   "source": [
    "for (name, clf) in models_dict.items():\n",
    "    print(f\"[INFO] Training model: {name}\")\n",
    "    clf.fit(Xtrain, Ytrain)\n",
    "    pred = clf.predict(Xtest)\n",
    "    tsne_plot(Xtest, pred, clf)"
   ]
  },
  {
   "cell_type": "code",
   "execution_count": null,
   "id": "53fb8a67",
   "metadata": {},
   "outputs": [],
   "source": []
  }
 ],
 "metadata": {
  "kernelspec": {
   "display_name": "Python 3",
   "language": "python",
   "name": "python3"
  },
  "language_info": {
   "codemirror_mode": {
    "name": "ipython",
    "version": 3
   },
   "file_extension": ".py",
   "mimetype": "text/x-python",
   "name": "python",
   "nbconvert_exporter": "python",
   "pygments_lexer": "ipython3",
   "version": "3.9.5"
  }
 },
 "nbformat": 4,
 "nbformat_minor": 5
}
