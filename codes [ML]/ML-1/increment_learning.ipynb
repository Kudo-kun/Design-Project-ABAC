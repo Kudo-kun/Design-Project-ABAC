{
 "cells": [
  {
   "cell_type": "code",
   "execution_count": null,
   "id": "primary-islam",
   "metadata": {},
   "outputs": [],
   "source": [
    "from sys import argv\n",
    "from numpy import array\n",
    "from ml_models import Classifier\n",
    "from sklearn.model_selection import KFold\n",
    "from sklearn.metrics import accuracy_score, precision_score, recall_score"
   ]
  },
  {
   "cell_type": "code",
   "execution_count": null,
   "id": "nonprofit-harvest",
   "metadata": {},
   "outputs": [],
   "source": [
    "def data_preprocessor(fname):\n",
    "    uvs, ovs, Np = 16, 20, 1\n",
    "    with open(fname, 'r') as f:\n",
    "        rules = f.read().split('\\n')\n",
    "\n",
    "    X,  Y = [], []\n",
    "    for rule in rules:\n",
    "        (UA, OA, P) = rule.split(';')\n",
    "        temp_u, temp_o = [0]*uvs, [0]*ovs\n",
    "        for i in UA.split(','):\n",
    "            temp_u[int(i)] = 1\n",
    "        for i in OA.split(','):\n",
    "            temp_o[int(i)] = 1\n",
    "        X.append(temp_u + temp_o)\n",
    "        Y.append(int(P))\n",
    "    return (array(X), array(Y))"
   ]
  },
  {
   "cell_type": "code",
   "execution_count": null,
   "id": "tropical-arthritis",
   "metadata": {},
   "outputs": [],
   "source": [
    "def split_fold(nfolds, X, Y):\n",
    "    nfolds -= 1\n",
    "    i, l = 0, len(X)\n",
    "    fold_size = l // nfolds\n",
    "    while i < l:\n",
    "        j = min(l, i+fold_size)\n",
    "        yield (X[:j], Y[:j])\n",
    "        i = j"
   ]
  },
  {
   "cell_type": "code",
   "execution_count": null,
   "id": "eleven-problem",
   "metadata": {},
   "outputs": [],
   "source": [
    "models = [\"SVM\", \"DT\", \"RF\", \"xgboost\", \"gradboost\"]\n",
    "X, Y = data_preprocessor(\"final_data.txt\")"
   ]
  },
  {
   "cell_type": "code",
   "execution_count": null,
   "id": "coral-segment",
   "metadata": {
    "scrolled": false
   },
   "outputs": [],
   "source": [
    "for model in models:\n",
    "    print(f\"[INFO] Training model: {model}\")\n",
    "    kfold_gen = KFold(n_splits=4, shuffle=True).split(X, Y)\n",
    "    clf = Classifier(ctype=model)\n",
    "    current_model_acc = []\n",
    "    current_model_pre = []\n",
    "    current_model_rec = []\n",
    "    avg_acc, avg_pre, avg_rec, fold = 0, 0, 0, 0\n",
    "\n",
    "    for (fold, (train, test)) in enumerate(kfold_gen, 1):\n",
    "        for (piece, (x, y)) in enumerate(split_fold(4, X[train], Y[train]), 1):\n",
    "            clf.fit(x, y)\n",
    "            ypred = clf.predict(X[test])\n",
    "            acc = accuracy_score(Y[test], ypred)\n",
    "            pre = precision_score(Y[test], ypred)\n",
    "            rec = recall_score(Y[test], ypred)\n",
    "            print(\"[INFO] Training on fold-%d/%d | accuracy: %.3f | precision: %.3f | recall %.3f | train set size: %d |\" % (piece, fold, acc, pre, rec, x.shape[0]))\n",
    "        \n",
    "        current_model_acc.append(acc)\n",
    "        current_model_pre.append(pre)\n",
    "        current_model_rec.append(rec)\n",
    "        avg_acc += acc\n",
    "        avg_rec += rec\n",
    "        avg_pre += pre\n",
    "\n",
    "    avg_acc /= fold\n",
    "    avg_rec /= fold\n",
    "    avg_pre /= fold\n",
    "    print(\"\\n[INFO] Average accuracy, precision, recall over all %d-fold: %.3f, %.3f, %.3f\\n\\n\" % (fold, avg_acc, avg_pre, avg_rec))\n",
    "    print(f\"+{'-'*102}+\\n\")"
   ]
  },
  {
   "cell_type": "code",
   "execution_count": null,
   "id": "verbal-emerald",
   "metadata": {},
   "outputs": [],
   "source": []
  }
 ],
 "metadata": {
  "kernelspec": {
   "display_name": "Python 3",
   "language": "python",
   "name": "python3"
  },
  "language_info": {
   "codemirror_mode": {
    "name": "ipython",
    "version": 3
   },
   "file_extension": ".py",
   "mimetype": "text/x-python",
   "name": "python",
   "nbconvert_exporter": "python",
   "pygments_lexer": "ipython3",
   "version": "3.9.2"
  }
 },
 "nbformat": 4,
 "nbformat_minor": 5
}