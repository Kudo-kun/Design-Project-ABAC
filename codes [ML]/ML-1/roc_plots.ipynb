{
 "cells": [
  {
   "cell_type": "code",
   "execution_count": null,
   "id": "consolidated-delay",
   "metadata": {},
   "outputs": [],
   "source": [
    "from numpy import array\n",
    "from ml_models import Classifier\n",
    "from matplotlib import pyplot as plt\n",
    "from sklearn.model_selection import KFold\n",
    "from sklearn.metrics import roc_curve, roc_auc_score\n",
    "plt.style.use(\"ggplot\")"
   ]
  },
  {
   "cell_type": "code",
   "execution_count": null,
   "id": "heavy-composition",
   "metadata": {},
   "outputs": [],
   "source": [
    "def data_preprocessor(fname):\n",
    "    uvs, ovs, Np = 16, 20, 1\n",
    "    with open(fname, 'r') as f:\n",
    "        rules = f.read().split('\\n')\n",
    "        f.close()\n",
    "\n",
    "    X,  Y = [], []\n",
    "    for rule in rules:\n",
    "        (UA, OA, P) = rule.split(';')\n",
    "        temp_u, temp_o = [0]*uvs, [0]*ovs\n",
    "        for i in UA.split(','):\n",
    "            temp_u[int(i)] = 1\n",
    "        for i in OA.split(','):\n",
    "            temp_o[int(i)] = 1\n",
    "        X.append(temp_u + temp_o)\n",
    "        Y.append(int(P))\n",
    "    return (array(X), array(Y))"
   ]
  },
  {
   "cell_type": "code",
   "execution_count": null,
   "id": "threatened-insertion",
   "metadata": {},
   "outputs": [],
   "source": [
    "models = [\"SVM\", \"DT\", \"RF\", \"xgboost\", \"gradboost\"]\n",
    "X, Y = data_preprocessor(\"final_data.txt\")\n",
    "kfold_gen = KFold(n_splits=4, shuffle=True).split(X, Y)"
   ]
  },
  {
   "cell_type": "code",
   "execution_count": null,
   "id": "former-democracy",
   "metadata": {},
   "outputs": [],
   "source": [
    "for (fold, (train, test)) in enumerate(kfold_gen, 1):\n",
    "    for model in models:\n",
    "        clf = Classifier(ctype=model)\n",
    "        clf.fit(X[train], Y[train])\n",
    "        ypred = clf.predict(X[test])\n",
    "        fpr, tpr, _ = roc_curve(Y[test], clf.predict_proba(X[test])[:,1])\n",
    "        auc = roc_auc_score(Y[test], clf.predict(X[test]))\n",
    "        plt.plot(fpr, tpr, label=\"%s ROC (area = %0.2f)\" % (model, auc))\n",
    "    plt.plot([0, 1], [0, 1],\"r--\")\n",
    "    plt.xlim([0.0, 1.0])\n",
    "    plt.ylim([0.0, 1.05])\n",
    "    plt.xlabel(\"1-Specificity (False Positive Rate)\")\n",
    "    plt.ylabel(\"Sensitivity (True Positive Rate)\")\n",
    "    plt.title(f\"fold-{fold}: Receiver Operating Characteristic\")\n",
    "    plt.legend(loc=\"best\")\n",
    "    plt.savefig(f\"ROC plot for fold-{fold}\")\n",
    "    plt.clf()"
   ]
  }
 ],
 "metadata": {
  "kernelspec": {
   "display_name": "Python 3",
   "language": "python",
   "name": "python3"
  },
  "language_info": {
   "codemirror_mode": {
    "name": "ipython",
    "version": 3
   },
   "file_extension": ".py",
   "mimetype": "text/x-python",
   "name": "python",
   "nbconvert_exporter": "python",
   "pygments_lexer": "ipython3",
   "version": "3.9.2"
  }
 },
 "nbformat": 4,
 "nbformat_minor": 5
}
