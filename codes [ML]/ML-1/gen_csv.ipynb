{
 "cells": [
  {
   "cell_type": "code",
   "execution_count": null,
   "id": "sized-vision",
   "metadata": {},
   "outputs": [],
   "source": [
    "from csv import writer\n",
    "from numpy import array\n",
    "from ml_models import Classifier\n",
    "from matplotlib import pyplot as plt\n",
    "from sklearn.model_selection import KFold\n",
    "plt.style.use(\"ggplot\")"
   ]
  },
  {
   "cell_type": "code",
   "execution_count": null,
   "id": "judicial-decline",
   "metadata": {},
   "outputs": [],
   "source": [
    "def data_preprocessor(fname):\n",
    "    uvs, ovs, Np = 16, 20, 1\n",
    "    with open(fname, 'r') as f:\n",
    "        rules = f.read().split('\\n')\n",
    "        f.close()\n",
    "\n",
    "    X,  Y = [], []\n",
    "    for rule in rules:\n",
    "        (UA, OA, P) = rule.split(';')\n",
    "        temp_u, temp_o = [0]*uvs, [0]*ovs\n",
    "        for i in UA.split(','):\n",
    "            temp_u[int(i)] = 1\n",
    "        for i in OA.split(','):\n",
    "            temp_o[int(i)] = 1\n",
    "        X.append(temp_u + temp_o)\n",
    "        Y.append(int(P))\n",
    "    return (array(X), array(Y))"
   ]
  },
  {
   "cell_type": "code",
   "execution_count": null,
   "id": "oriented-absorption",
   "metadata": {},
   "outputs": [],
   "source": [
    "models = [\"SVM\", \"DT\", \"RF\", \"xgboost\", \"gradboost\"]\n",
    "csvfields = [\"confidence for class-0\", \"confidence for class-1\", \"actual class\"]\n",
    "X, Y = data_preprocessor(\"final_data.txt\")\n",
    "kfold_gen = KFold(n_splits=4, shuffle=True).split(X, Y)"
   ]
  },
  {
   "cell_type": "code",
   "execution_count": null,
   "id": "civilian-string",
   "metadata": {},
   "outputs": [],
   "source": [
    "for (fold, (train, test)) in enumerate(kfold_gen, 1):\n",
    "    for model in models:\n",
    "        clf = Classifier(ctype=model)\n",
    "        clf.fit(X[train], Y[train])\n",
    "        class_probs = clf.predict_proba(X[test])\n",
    "        with open(f\"CSV_Files/{model}-{fold}-scores.csv\", 'w') as csvfile:\n",
    "            csvwriter =  writer(csvfile)\n",
    "            csvwriter.writerow(csvfields)\n",
    "            for (row, label) in zip(class_probs, Y[test]):\n",
    "                csvwriter.writerow([round(row[0], 3), round(row[1], 3), label])\n",
    "            csvfile.close()"
   ]
  }
 ],
 "metadata": {
  "kernelspec": {
   "display_name": "Python 3",
   "language": "python",
   "name": "python3"
  },
  "language_info": {
   "codemirror_mode": {
    "name": "ipython",
    "version": 3
   },
   "file_extension": ".py",
   "mimetype": "text/x-python",
   "name": "python",
   "nbconvert_exporter": "python",
   "pygments_lexer": "ipython3",
   "version": "3.9.2"
  }
 },
 "nbformat": 4,
 "nbformat_minor": 5
}